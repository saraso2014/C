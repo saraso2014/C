{
  "nbformat": 4,
  "nbformat_minor": 0,
  "metadata": {
    "colab": {
      "name": "Soueidan Python_Workshop_NB_1_Fill_Blanks.ipynb",
      "version": "0.3.2",
      "provenance": [],
      "collapsed_sections": [],
      "include_colab_link": true
    },
    "kernelspec": {
      "display_name": "Python 3",
      "language": "python",
      "name": "python3"
    }
  },
  "cells": [
    {
      "cell_type": "markdown",
      "metadata": {
        "id": "view-in-github",
        "colab_type": "text"
      },
      "source": [
        "<a href=\"https://colab.research.google.com/github/saraso2014/C/blob/master/Soueidan_Python_Workshop_NB_1_Fill_Blanks.ipynb\" target=\"_parent\"><img src=\"https://colab.research.google.com/assets/colab-badge.svg\" alt=\"Open In Colab\"/></a>"
      ]
    },
    {
      "metadata": {
        "id": "BT3pqiDTxP-r",
        "colab_type": "text"
      },
      "cell_type": "markdown",
      "source": [
        "# Introduction to Python with Linear Regression - Python Workshop\n",
        "### Prepared by: Dr. Sirine Taleb and Eng. Alaa Maarouf "
      ]
    },
    {
      "metadata": {
        "id": "CcxxsN12xP-v",
        "colab_type": "text"
      },
      "cell_type": "markdown",
      "source": [
        "## Import Libraries"
      ]
    },
    {
      "metadata": {
        "id": "v8SvCyMo1K-9",
        "colab_type": "text"
      },
      "cell_type": "markdown",
      "source": [
        "Scikit-learn (formerly scikits.learn) is a free software machine learning library for the Python programming language. It features various classification, regression and clustering algorithms.\n",
        "sklearn"
      ]
    },
    {
      "metadata": {
        "id": "QqHiO6tt1gTq",
        "colab_type": "text"
      },
      "cell_type": "markdown",
      "source": [
        "Normally, it is better to have one cell at the beginning with all the imports but for this notebook, we will import each library whenever needed"
      ]
    },
    {
      "metadata": {
        "id": "1ooBXwa0xP-6",
        "colab_type": "code",
        "colab": {}
      },
      "cell_type": "code",
      "source": [
        "import sklearn\n",
        "#Try the control+enter"
      ],
      "execution_count": 0,
      "outputs": []
    },
    {
      "metadata": {
        "id": "QsDPtCOFxP_B",
        "colab_type": "code",
        "colab": {}
      },
      "cell_type": "code",
      "source": [
        "#The sklearn.datasets package embeds some small toy datasets.\n",
        "from sklearn import datasets"
      ],
      "execution_count": 0,
      "outputs": []
    },
    {
      "metadata": {
        "id": "M0KYJkoyxP_I",
        "colab_type": "text"
      },
      "cell_type": "markdown",
      "source": [
        "## Import Data"
      ]
    },
    {
      "metadata": {
        "id": "O5qoUxN5xP_K",
        "colab_type": "code",
        "colab": {}
      },
      "cell_type": "code",
      "source": [
        "from sklearn.datasets import load_boston"
      ],
      "execution_count": 0,
      "outputs": []
    },
    {
      "metadata": {
        "id": "R6TCwFf1xP_R",
        "colab_type": "text"
      },
      "cell_type": "markdown",
      "source": [
        "## Exploratory Data Analysis (EDA)"
      ]
    },
    {
      "metadata": {
        "id": "vE95cwzIxP_T",
        "colab_type": "code",
        "colab": {}
      },
      "cell_type": "code",
      "source": [
        "#Name it\n",
        "dataset = load_boston()"
      ],
      "execution_count": 0,
      "outputs": []
    },
    {
      "metadata": {
        "id": "-jynagl0xP_c",
        "colab_type": "code",
        "colab": {}
      },
      "cell_type": "code",
      "source": [
        "#Know what information can you reveal about your dataset:\n",
        "dataset.keys()"
      ],
      "execution_count": 0,
      "outputs": []
    },
    {
      "metadata": {
        "id": "hmX-CuOwxP_h",
        "colab_type": "code",
        "colab": {}
      },
      "cell_type": "code",
      "source": [
        "#So you can visulaize any of the information available in the keys such as the data, target, feature_names, DESCR\n",
        "#By only typing dataset.any_of_the_keys \n",
        "#print command\n",
        "print(dataset.DESCR)"
      ],
      "execution_count": 0,
      "outputs": []
    },
    {
      "metadata": {
        "id": "jf0KoHx1xP_l",
        "colab_type": "code",
        "colab": {}
      },
      "cell_type": "code",
      "source": [
        "#What if we do not use the print command?\n",
        "dataset.DESCR"
      ],
      "execution_count": 0,
      "outputs": []
    },
    {
      "metadata": {
        "id": "66qi9D9-xP_s",
        "colab_type": "code",
        "colab": {}
      },
      "cell_type": "code",
      "source": [
        "#Get the feature names\n",
        "print(dataset.-----------)"
      ],
      "execution_count": 0,
      "outputs": []
    },
    {
      "metadata": {
        "id": "7vapKxGrxP_z",
        "colab_type": "code",
        "colab": {}
      },
      "cell_type": "code",
      "source": [
        "#We do not want to display the full data; however, we would like to know more about the shape of this data! \n",
        "#Therefore, you can use dataset.data.try_the_tab_to_see_options \n",
        "#How many features and how many samples? Try the shape command\n",
        "dataset.data.-----"
      ],
      "execution_count": 0,
      "outputs": []
    },
    {
      "metadata": {
        "id": "sGC8H0QMxP_3",
        "colab_type": "code",
        "colab": {}
      },
      "cell_type": "code",
      "source": [
        "#What about the target? There is a target.. \n",
        "#==> Supervised or Unsupervised learning?\n",
        "dataset.------.shape"
      ],
      "execution_count": 0,
      "outputs": []
    },
    {
      "metadata": {
        "id": "QRH3MghIxP_7",
        "colab_type": "text"
      },
      "cell_type": "markdown",
      "source": [
        "## DataFrame (pandas)"
      ]
    },
    {
      "metadata": {
        "id": "Cp1UnY7GxP_7",
        "colab_type": "code",
        "colab": {}
      },
      "cell_type": "code",
      "source": [
        "#Now let’s convert it into pandas! \n",
        "#It’s simple, just call the pd.DataFrame() method and pass the dataset. \n",
        "#And we can check the first 5 data with head()."
      ],
      "execution_count": 0,
      "outputs": []
    },
    {
      "metadata": {
        "id": "FYKr6dy61ktu",
        "colab_type": "text"
      },
      "cell_type": "markdown",
      "source": [
        "Pandas stands for “Python Data Analysis Library” \\\n",
        "Pandas is quite a game changer when it comes to analyzing data with Python and it is one of the most preferred \\\n",
        "What’s cool about Pandas is that it takes data (like a CSV or TSV file, or a SQL database) and creates a Python object with rows and columns called data frame that looks very similar to TABLE in a statistical software. \\\n",
        "Usually you would add the second part (‘as pd’) so you can access Pandas with ‘pd.command’ instead of needing to write ‘pandas.command’ every time you need to use it."
      ]
    },
    {
      "metadata": {
        "id": "JHnSR02yxQAA",
        "colab_type": "code",
        "colab": {}
      },
      "cell_type": "code",
      "source": [
        "#import the pandas library\n",
        "import pandas as pd"
      ],
      "execution_count": 0,
      "outputs": []
    },
    {
      "metadata": {
        "id": "YwVrpr-J1nh5",
        "colab_type": "text"
      },
      "cell_type": "markdown",
      "source": [
        "Try the tab after you write pd. to see the different commands "
      ]
    },
    {
      "metadata": {
        "id": "cENRqZwgxQAC",
        "colab_type": "code",
        "colab": {}
      },
      "cell_type": "code",
      "source": [
        "#pd."
      ],
      "execution_count": 0,
      "outputs": []
    },
    {
      "metadata": {
        "id": "IESYjASVxQAE",
        "colab_type": "code",
        "colab": {}
      },
      "cell_type": "code",
      "source": [
        "bos = pd.DataFrame(dataset.data)\n",
        "#See the first few rows through the head command\n",
        "bos.head()"
      ],
      "execution_count": 0,
      "outputs": []
    },
    {
      "metadata": {
        "id": "curmu9AGxQAI",
        "colab_type": "code",
        "colab": {}
      },
      "cell_type": "code",
      "source": [
        "#After loading the data, it’s a good practice to see if \n",
        "#there are any missing values in the data. \n",
        "#We count the number of missing values for each feature using isnull()\n",
        "bos.isnull().sum()"
      ],
      "execution_count": 0,
      "outputs": []
    },
    {
      "metadata": {
        "id": "XP_aX-nMxQAL",
        "colab_type": "code",
        "colab": {}
      },
      "cell_type": "code",
      "source": [
        "#Fix the column names into the features\n",
        "bos.columns = dataset.feature_names\n",
        "#We could have done it in one command when importing the data into a dataframe:\n",
        "#bos = pd.DataFrame(dataset.data, columns=dataset.feature_names)\n",
        "bos.head(5)"
      ],
      "execution_count": 0,
      "outputs": []
    },
    {
      "metadata": {
        "id": "HUKMsMeYxQAP",
        "colab_type": "code",
        "colab": {}
      },
      "cell_type": "code",
      "source": [
        "# Attribute Information:\n",
        "\n",
        " #   1. CRIM      per capita crime rate by town\n",
        "  #  2. ZN        proportion of residential land zoned for lots over 25,000 sq.ft.\n",
        "   # 3. INDUS     proportion of non-retail business acres per town\n",
        "   # 4. CHAS      Charles River dummy variable (= 1 if tract bounds \n",
        "    #             river; 0 otherwise)\n",
        "    #5. NOX       nitric oxides concentration (parts per 10 million)\n",
        "    #6. RM        average number of rooms per dwelling\n",
        "    #7. AGE       proportion of owner-occupied units built prior to 1940\n",
        "    #8. DIS       weighted distances to five Boston employment centres\n",
        "    #9. RAD       index of accessibility to radial highways\n",
        "    #10. TAX      full-value property-tax rate per $10,000\n",
        "    #11. PTRATIO  pupil-teacher ratio by town\n",
        "    #12. B        1000(Bk - 0.63)^2 where Bk is the proportion of blacks \n",
        "     #            by town\n",
        "    #13. LSTAT    % lower status of the population\n",
        "\n"
      ],
      "execution_count": 0,
      "outputs": []
    },
    {
      "metadata": {
        "id": "5bTEIsygxQAS",
        "colab_type": "code",
        "colab": {}
      },
      "cell_type": "code",
      "source": [
        "#Add the target (price of the house) by simply adding a column\n",
        "bos['PRICE'] = ------.------\n",
        "bos.head()\n",
        "#Notice the Price as the last column in the dataframe"
      ],
      "execution_count": 0,
      "outputs": []
    },
    {
      "metadata": {
        "id": "hMV_ZDmAxQAV",
        "colab_type": "code",
        "colab": {}
      },
      "cell_type": "code",
      "source": [
        "#Specify the number of rows as 2\n",
        "bos.head(2)\n",
        "#What does bos.tail() return?"
      ],
      "execution_count": 0,
      "outputs": []
    },
    {
      "metadata": {
        "id": "gorCXI6ExQAY",
        "colab_type": "code",
        "colab": {}
      },
      "cell_type": "code",
      "source": [
        "#summary statistics for numerical columns\n",
        "bos.describe()"
      ],
      "execution_count": 0,
      "outputs": []
    },
    {
      "metadata": {
        "id": "hSqMi0AT1rmb",
        "colab_type": "text"
      },
      "cell_type": "markdown",
      "source": [
        "df.mean()Returns the mean of all columns \\\n",
        "df.corr()Returns the correlation between columns in a data frame \\\n",
        "df.count()Returns the number of non-null values in each data frame column \\\n",
        "df.max()Returns the highest value in each column \\\n",
        "df.min()Returns the lowest value in each column \\\n",
        "df.median()Returns the median of each column \\\n",
        "df.std()Returns the standard deviation of each column \\"
      ]
    },
    {
      "metadata": {
        "id": "shMLvBXzxQAc",
        "colab_type": "code",
        "colab": {}
      },
      "cell_type": "code",
      "source": [
        "#check the shape also in dataframes\n",
        "bos.shape"
      ],
      "execution_count": 0,
      "outputs": []
    },
    {
      "metadata": {
        "id": "n7dvoX67xQAg",
        "colab_type": "code",
        "colab": {}
      },
      "cell_type": "code",
      "source": [
        "#select specific columns:\n",
        "bos[\"CRIM\"]"
      ],
      "execution_count": 0,
      "outputs": []
    },
    {
      "metadata": {
        "id": "uBpY5QEyxQAj",
        "colab_type": "code",
        "colab": {}
      },
      "cell_type": "code",
      "source": [
        "#select specific row:\n",
        "bos.iloc[0,:]"
      ],
      "execution_count": 0,
      "outputs": []
    },
    {
      "metadata": {
        "id": "veQSXFshxQAm",
        "colab_type": "code",
        "colab": {}
      },
      "cell_type": "code",
      "source": [
        "# select the first element of the first column you would run:\n",
        "bos.iloc[0,0]\n",
        "#Notice again that 0 is the first number in Python!!!"
      ],
      "execution_count": 0,
      "outputs": []
    },
    {
      "metadata": {
        "id": "GIEn807pxQAp",
        "colab_type": "code",
        "colab": {}
      },
      "cell_type": "code",
      "source": [
        "# select the 10th row of the dataset\n",
        "bos.iloc[-,:]\n",
        "# Did you put index 10 or 9???"
      ],
      "execution_count": 0,
      "outputs": []
    },
    {
      "metadata": {
        "id": "2ezDYCczxQAs",
        "colab_type": "code",
        "colab": {}
      },
      "cell_type": "code",
      "source": [
        "#Filter, Sort and Groupby\n",
        "#Explore these later on your own!!"
      ],
      "execution_count": 0,
      "outputs": []
    },
    {
      "metadata": {
        "id": "UPj3yONSxQAv",
        "colab_type": "text"
      },
      "cell_type": "markdown",
      "source": [
        "## Visualization "
      ]
    },
    {
      "metadata": {
        "id": "Mn1nRphC1uVD",
        "colab_type": "text"
      },
      "cell_type": "markdown",
      "source": [
        "Let’s first plot the distribution of the target variable. We will use the distplot function from the seaborn library."
      ]
    },
    {
      "metadata": {
        "id": "fgOYsvucxQAx",
        "colab_type": "code",
        "colab": {}
      },
      "cell_type": "code",
      "source": [
        "import matplotlib.pyplot as plt # Collection of functions for scientific and publication-ready visualization\n",
        "%matplotlib inline\n",
        "#matplotlib (the de-facto standard), activated with %matplotlib inline - Here's a Dataquest Matplotlib Tutorial.\n",
        "\n",
        "#%matplotlib notebook \n",
        "#provides interactivity but can be a little slow, since rendering is done server-side.\n",
        "\n",
        "#Seaborn is built over Matplotlib and makes building more attractive plots easier. Just by importing Seaborn, your matplotlib plots are made 'prettier' without any code modification.\n",
        "#Import Seaborn (visualizations)\n",
        "import seaborn as sns"
      ],
      "execution_count": 0,
      "outputs": []
    },
    {
      "metadata": {
        "id": "ykn0cNfvxQA0",
        "colab_type": "code",
        "colab": {}
      },
      "cell_type": "code",
      "source": [
        "sns.set(rc={'figure.figsize':(11.7,8.27)})\n",
        "sns.distplot(bos['PRICE'], bins=30)"
      ],
      "execution_count": 0,
      "outputs": []
    },
    {
      "metadata": {
        "id": "McHcLu4pxQA6",
        "colab_type": "code",
        "colab": {}
      },
      "cell_type": "code",
      "source": [
        "#Compare the above histogram to the following:\n",
        "plt.hist(bos['PRICE'], bins=30)"
      ],
      "execution_count": 0,
      "outputs": []
    },
    {
      "metadata": {
        "id": "z0Wf1LmW1x0u",
        "colab_type": "text"
      },
      "cell_type": "markdown",
      "source": [
        "We see that the values of PRICE are distributed normally with few outliers."
      ]
    },
    {
      "metadata": {
        "id": "uXC0GYe0xQA8",
        "colab_type": "text"
      },
      "cell_type": "markdown",
      "source": [
        "## Prepare your training and testing data "
      ]
    },
    {
      "metadata": {
        "id": "bb_KYZ2YxQA9",
        "colab_type": "code",
        "colab": {}
      },
      "cell_type": "code",
      "source": [
        "#Basically, before splitting the data to train-test dataset, \n",
        "#we would need to split the dataset into two: target value and predictor values. \n",
        "#Let’s call the target value Y and predictor values X.\n",
        "X = bos.drop(-------, axis = 1) #axis=1 refering to the column\n",
        "Y = bos['PRICE'] "
      ],
      "execution_count": 0,
      "outputs": []
    },
    {
      "metadata": {
        "id": "IkGW6K8BxQA_",
        "colab_type": "code",
        "colab": {}
      },
      "cell_type": "code",
      "source": [
        "#another statement to import specific command\n",
        "from sklearn.model_selection import train_test_split"
      ],
      "execution_count": 0,
      "outputs": []
    },
    {
      "metadata": {
        "id": "mpVON84axQBB",
        "colab_type": "code",
        "colab": {}
      },
      "cell_type": "code",
      "source": [
        "X_train, X_test, Y_train, Y_test = train_test_split(X, Y, test_size=0.3, random_state=42)\n",
        "print(X_train.shape)\n",
        "print(Y_train.shape)\n",
        "#Print the test shapes as well:\n",
        "print(-------)\n",
        "print(-------)"
      ],
      "execution_count": 0,
      "outputs": []
    },
    {
      "metadata": {
        "id": "3N4GNOFWxQBC",
        "colab_type": "text"
      },
      "cell_type": "markdown",
      "source": [
        "## Linear Regression"
      ]
    },
    {
      "metadata": {
        "id": "5rEMYYOmxQBD",
        "colab_type": "code",
        "colab": {}
      },
      "cell_type": "code",
      "source": [
        "#Why Regression?\n",
        "from sklearn.linear_model import LinearRegression\n",
        "\n",
        "lm = LinearRegression()\n",
        "lm.fit(------, -------)"
      ],
      "execution_count": 0,
      "outputs": []
    },
    {
      "metadata": {
        "id": "ea81leiNxQBF",
        "colab_type": "text"
      },
      "cell_type": "markdown",
      "source": [
        "## Make Predictions"
      ]
    },
    {
      "metadata": {
        "id": "MZG_EHblxQBG",
        "colab_type": "code",
        "colab": {}
      },
      "cell_type": "code",
      "source": [
        "# get predictions of testing data\n",
        "Y_pred = lm.predict(X_test)\n",
        "Y_pred[0:5]"
      ],
      "execution_count": 0,
      "outputs": []
    },
    {
      "metadata": {
        "id": "_yfg-OxpxQBI",
        "colab_type": "code",
        "colab": {}
      },
      "cell_type": "code",
      "source": [
        "#What are the actual prices?\n",
        "Y_test[---]"
      ],
      "execution_count": 0,
      "outputs": []
    },
    {
      "metadata": {
        "id": "O3V6WDyExQBK",
        "colab_type": "code",
        "colab": {}
      },
      "cell_type": "code",
      "source": [
        "#import matplotlib.pyplot as plt\n",
        "#%matplotlib inline\n",
        "plt.scatter(Y_test, Y_pred)\n",
        "plt.plot([0, 50], [0, 50], '--k')\n",
        "plt.xlabel(\"Prices ($1000s): $Y_i$\")\n",
        "plt.ylabel(\"Predicted prices ($1000s): $\\hat{Y}_i$\")\n",
        "plt.title(\"Prices vs Predicted prices: $Y_i$ vs $\\hat{Y}_i$\")"
      ],
      "execution_count": 0,
      "outputs": []
    },
    {
      "metadata": {
        "id": "GULVQqOwxQBL",
        "colab_type": "code",
        "colab": {}
      },
      "cell_type": "code",
      "source": [
        "# calculate r2 score\n",
        "from sklearn.metrics import r2_score\n",
        "r2_score(------, ------)\n",
        "#You should get around 0.7 or 70%"
      ],
      "execution_count": 0,
      "outputs": []
    },
    {
      "metadata": {
        "id": "VhEUD4PYxQBN",
        "colab_type": "code",
        "colab": {}
      },
      "cell_type": "code",
      "source": [
        "from sklearn.metrics import mean_squared_error\n",
        "mean_squared_error(Y_test, Y_pred)"
      ],
      "execution_count": 0,
      "outputs": []
    },
    {
      "metadata": {
        "id": "LQvLkyiVxQBP",
        "colab_type": "code",
        "colab": {}
      },
      "cell_type": "code",
      "source": [
        "from sklearn.ensemble import RandomForestRegressor\n",
        "\n",
        "# Instantiate model with 1000 decision trees\n",
        "rf = RandomForestRegressor(n_estimators = 1000, random_state = 42)\n",
        "rf.---(-----, -----)\n",
        "\n",
        "predicted = rf.predict(X_test)\n",
        "expected = Y_test\n",
        "\n",
        "plt.scatter(------, ------)\n",
        "plt.plot([0, 50], [0, 50], '--k')\n",
        "plt.xlabel(\"Prices ($1000s): $Y_i$\")\n",
        "plt.ylabel(\"Predicted prices ($1000s): $\\hat{Y}_i$\")\n",
        "plt.title(\"Random Forest: Prices vs Predicted prices: $Y_i$ vs $\\hat{Y}_i$\")"
      ],
      "execution_count": 0,
      "outputs": []
    },
    {
      "metadata": {
        "id": "W4wxRYz5xQBQ",
        "colab_type": "code",
        "colab": {}
      },
      "cell_type": "code",
      "source": [
        "r2_score(------, ------)\n",
        "#You should get around 0.8 or 80%"
      ],
      "execution_count": 0,
      "outputs": []
    }
  ]
}